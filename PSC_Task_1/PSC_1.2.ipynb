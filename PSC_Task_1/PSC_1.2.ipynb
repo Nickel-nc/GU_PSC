{
 "cells": [
  {
   "cell_type": "code",
   "execution_count": 24,
   "metadata": {},
   "outputs": [],
   "source": [
    "import requests\n",
    "from getpass import getpass\n",
    "from pprint import pprint\n",
    "import json"
   ]
  },
  {
   "cell_type": "code",
   "execution_count": 25,
   "metadata": {},
   "outputs": [],
   "source": [
    "# API vk.com manual: https://vk.com/dev/manuals\n",
    "\n",
    "# https://api.vk.com/method/METHOD_NAME?PARAMETERS&access_token=ACCESS_TOKEN&v=V\n",
    "# id225536808\n",
    "# id token 7138148\n",
    "# access_token=8068697d35829c90c4854a12e57de00d87835180b7db5a5cf4c5664637eea2d1e72e5557414fbe64308dc&expires_in=0&user_id=225536808\n",
    "\n",
    "main_link = 'https://api.vk.com/method'\n",
    "method = 'users.get'\n",
    "parameters = 'user_ids=225536808&fields=bdate'\n",
    "token = '8068697d35829c90c4854a12e57de00d87835180b7db5a5cf4c5664637eea2d1e72e5557414fbe64308dc'\n",
    "V = '5.101'\n"
   ]
  },
  {
   "cell_type": "code",
   "execution_count": 26,
   "metadata": {},
   "outputs": [
    {
     "data": {
      "text/plain": [
       "{'response': [{'id': 225536808,\n",
       "   'first_name': 'Nickel',\n",
       "   'last_name': 'Nc',\n",
       "   'is_closed': False,\n",
       "   'can_access_closed': True}]}"
      ]
     },
     "execution_count": 26,
     "metadata": {},
     "output_type": "execute_result"
    }
   ],
   "source": [
    "req = requests.get(f'{main_link}/{method}?{parameters}&access_token={token}&v={V}')\n",
    "req.json()"
   ]
  },
  {
   "cell_type": "code",
   "execution_count": null,
   "metadata": {},
   "outputs": [],
   "source": []
  }
 ],
 "metadata": {
  "kernelspec": {
   "display_name": "Python 3",
   "language": "python",
   "name": "python3"
  },
  "language_info": {
   "codemirror_mode": {
    "name": "ipython",
    "version": 3
   },
   "file_extension": ".py",
   "mimetype": "text/x-python",
   "name": "python",
   "nbconvert_exporter": "python",
   "pygments_lexer": "ipython3",
   "version": "3.7.3"
  }
 },
 "nbformat": 4,
 "nbformat_minor": 2
}

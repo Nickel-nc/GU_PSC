{
 "cells": [
  {
   "cell_type": "code",
   "execution_count": 26,
   "metadata": {},
   "outputs": [],
   "source": [
    "import requests\n",
    "from getpass import getpass\n",
    "from pprint import pprint\n",
    "import json"
   ]
  },
  {
   "cell_type": "code",
   "execution_count": 92,
   "metadata": {
    "scrolled": false
   },
   "outputs": [
    {
     "name": "stdout",
     "output_type": "stream",
     "text": [
      "········\n"
     ]
    },
    {
     "data": {
      "text/plain": [
       "['aws_jupyter_anaconda',\n",
       " 'deep_learning_python_intro',\n",
       " 'eda_nlp',\n",
       " 'gender-unbiased_BERT-based_pronoun_resolution',\n",
       " 'jupyter_demonstrations',\n",
       " 'mlcourse.ai',\n",
       " 'one_cool_programming_task',\n",
       " 'python_intro',\n",
       " 'stanford_cs231n_2019']"
      ]
     },
     "execution_count": 92,
     "metadata": {},
     "output_type": "execute_result"
    }
   ],
   "source": [
    "# API github manual: https://developer.github.com/v3/\n",
    "\n",
    "username = 'Nickel-nc'\n",
    "repo_owner = 'Yorko'\n",
    "password = getpass()\n",
    "main_link = 'https://api.github.com'\n",
    "req = requests.get(f'{main_link}/users/{repo_owner}/repos', auth = (username, password))\n",
    "data = json.loads(req.text)\n",
    "\n",
    "lst = []\n",
    "for i in range(len(data)):\n",
    "    lst.append(data[i]['name'])\n",
    "lst"
   ]
  },
  {
   "cell_type": "code",
   "execution_count": 106,
   "metadata": {},
   "outputs": [
    {
     "data": {
      "text/plain": [
       "str"
      ]
     },
     "execution_count": 106,
     "metadata": {},
     "output_type": "execute_result"
    }
   ],
   "source": [
    "s = json.dumps(lst)\n",
    "s1 = json.loads(s)"
   ]
  },
  {
   "cell_type": "code",
   "execution_count": 109,
   "metadata": {},
   "outputs": [],
   "source": [
    "with open('HW_1.1_response.json', 'w', encoding='utf-8') as file:\n",
    "    json.dump(s1, file, indent=2, ensure_ascii=False)"
   ]
  },
  {
   "cell_type": "code",
   "execution_count": null,
   "metadata": {},
   "outputs": [],
   "source": []
  }
 ],
 "metadata": {
  "kernelspec": {
   "display_name": "Python 3",
   "language": "python",
   "name": "python3"
  },
  "language_info": {
   "codemirror_mode": {
    "name": "ipython",
    "version": 3
   },
   "file_extension": ".py",
   "mimetype": "text/x-python",
   "name": "python",
   "nbconvert_exporter": "python",
   "pygments_lexer": "ipython3",
   "version": "3.7.3"
  }
 },
 "nbformat": 4,
 "nbformat_minor": 2
}
